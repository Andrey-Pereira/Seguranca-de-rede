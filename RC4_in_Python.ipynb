{
  "nbformat": 4,
  "nbformat_minor": 0,
  "metadata": {
    "colab": {
      "name": "RC4 in Python",
      "provenance": [],
      "authorship_tag": "ABX9TyNNn+cNqJWqFbGH60x9EsFY",
      "include_colab_link": true
    },
    "kernelspec": {
      "name": "python3",
      "display_name": "Python 3"
    },
    "language_info": {
      "name": "python"
    }
  },
  "cells": [
    {
      "cell_type": "markdown",
      "metadata": {
        "id": "view-in-github",
        "colab_type": "text"
      },
      "source": [
        "<a href=\"https://colab.research.google.com/github/Andrey-Pereira/Seguranca-de-rede/blob/main/RC4_in_Python.ipynb\" target=\"_parent\"><img src=\"https://colab.research.google.com/assets/colab-badge.svg\" alt=\"Open In Colab\"/></a>"
      ]
    },
    {
      "cell_type": "code",
      "metadata": {
        "colab": {
          "base_uri": "https://localhost:8080/"
        },
        "id": "FvFajHi-kFMo",
        "outputId": "4252e4b7-3cc4-42a2-b47e-e8bdc6e1d625"
      },
      "source": [
        "def KSA (key):\n",
        "  key_lenght = len(key)\n",
        "  S = list(range(256))\n",
        "  j = 0\n",
        "  for i in range(256):\n",
        "    j = (j + S[i] + key[i % key_lenght]) % 256\n",
        "    S[i], S[j] = S[j], S[i] #troca\n",
        "  return S\n",
        "\n",
        "def PRGA(S, n):\n",
        "  i = 0\n",
        "  j = 0\n",
        "  key = []\n",
        "\n",
        "  while n>0:\n",
        "    n=n-1\n",
        "    i = (i + 1) % 256\n",
        "    j = (j + S[i]) % 256\n",
        "    S[i], S[j] = S[j], S[i]\n",
        "    K = S[(S[i] + S[j]) % 256]\n",
        "    key.append(K)\n",
        "  return key\n",
        "\n",
        "key = 'cryptii'\n",
        "plaintext = \"seguranca\"\n",
        "\n",
        "def preparing_key_array(s):\n",
        "  return[ord(c) for c in s]\n",
        "\n",
        "key = preparing_key_array(key)\n",
        "\n",
        "import numpy as np\n",
        "S = KSA(key)\n",
        "\n",
        "keystream = np.array(PRGA(S, len(plaintext)))\n",
        "print(keystream)\n",
        "\n",
        "plaintext = np.array([ord(i) for i in plaintext])\n",
        "\n",
        "cipher = keystream ^ plaintext #xor two numpy arrays \n",
        "\n",
        "print(cipher.astype(np.uint8).data.hex()) #valores hexadecimais  \n",
        "print([chr(c) for c in cipher]) #print unicode \n",
        "\n"
      ],
      "execution_count": 4,
      "outputs": [
        {
          "output_type": "stream",
          "text": [
            "[126 170 155 237 169 142 209  37  83]\n",
            "0dcffc98dbefbf4632\n",
            "['\\r', 'Ï', 'ü', '\\x98', 'Û', 'ï', '¿', 'F', '2']\n"
          ],
          "name": "stdout"
        }
      ]
    }
  ]
}