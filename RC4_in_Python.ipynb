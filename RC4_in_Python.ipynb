{
  "nbformat": 4,
  "nbformat_minor": 0,
  "metadata": {
    "colab": {
      "name": "RC4 in Python",
      "provenance": [],
      "authorship_tag": "ABX9TyPwOAR/klBlvKbEqKVymihY",
      "include_colab_link": true
    },
    "kernelspec": {
      "name": "python3",
      "display_name": "Python 3"
    },
    "language_info": {
      "name": "python"
    }
  },
  "cells": [
    {
      "cell_type": "markdown",
      "metadata": {
        "id": "view-in-github",
        "colab_type": "text"
      },
      "source": [
        "<a href=\"https://colab.research.google.com/github/Andrey-Pereira/Seguranca-de-rede/blob/main/RC4_in_Python.ipynb\" target=\"_parent\"><img src=\"https://colab.research.google.com/assets/colab-badge.svg\" alt=\"Open In Colab\"/></a>"
      ]
    },
    {
      "cell_type": "code",
      "metadata": {
        "colab": {
          "base_uri": "https://localhost:8080/"
        },
        "id": "FvFajHi-kFMo",
        "outputId": "3e7cd912-22e7-41c1-c2e1-62ceca7303e8"
      },
      "source": [
        "def KSA (key):\n",
        "  key_lenght = len(key)\n",
        "  S = list(range(256))\n",
        "  j = 0\n",
        "  for i in range(256):\n",
        "    j = (j + S[i] + key[i % key_lenght]) % 256\n",
        "    S[i], S[j] = S[j], S[i] #troca\n",
        "  return S\n",
        "\n",
        "def PRGA(S, n):\n",
        "  i = 0\n",
        "  j = 0\n",
        "  key = []\n",
        "\n",
        "  while n>0:\n",
        "    n=n-1\n",
        "    i = (i + 1) % 256\n",
        "    j = (j + S[i]) % 256\n",
        "    S[i], S[j] = S[j], S[i]\n",
        "    K = S[(S[i] + S[j]) % 256]\n",
        "    key.append(K)\n",
        "  return key\n",
        "\n",
        "key = '63727970746969'\n",
        "plaintext = \"seguranca\"\n",
        "\n",
        "def preparing_key_array(s):\n",
        "  return[ord(c) for c in s]\n",
        "\n",
        "key = preparing_key_array(key)\n",
        "\n",
        "import numpy as np\n",
        "S = KSA(key)\n",
        "\n",
        "keystream = np.array(PRGA(S, len(plaintext)))\n",
        "print(keystream)\n",
        "\n",
        "plaintext = np.array([ord(i) for i in plaintext])\n",
        "\n",
        "cipher = keystream ^ plaintext #xor two numpy arrays \n",
        "\n",
        "print(cipher.astype(np.uint8).data.hex()) #valores hexadecimais  \n",
        "print([chr(c) for c in cipher]) #print unicode \n",
        "\n"
      ],
      "execution_count": 13,
      "outputs": [
        {
          "output_type": "stream",
          "text": [
            "[109 173 161 181 242 221 117  85  62]\n",
            "1ec8c6c080bc1b365f\n",
            "['\\x1e', 'È', 'Æ', 'À', '\\x80', '¼', '\\x1b', '6', '_']\n"
          ],
          "name": "stdout"
        }
      ]
    }
  ]
}